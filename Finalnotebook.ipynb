{
 "cells": [
  {
   "cell_type": "markdown",
   "metadata": {},
   "source": [
    "# **Final Notebook**"
   ]
  },
  {
   "cell_type": "markdown",
   "metadata": {},
   "source": [
    "# Introduction"
   ]
  },
  {
   "cell_type": "markdown",
   "metadata": {},
   "source": [
    "# Submetric Analysis:"
   ]
  },
  {
   "cell_type": "markdown",
   "metadata": {},
   "source": [
    "## Amount of Restaurants by Neighborhood  "
   ]
  },
  {
   "cell_type": "markdown",
   "metadata": {},
   "source": [
    "### By: Gavin Fehl"
   ]
  },
  {
   "cell_type": "markdown",
   "metadata": {},
   "source": [
    "##### Datasets: [Allegheny County Assets](https://data.wprdc.org/dataset/allegheny-county-assets )"
   ]
  },
  {
   "cell_type": "markdown",
   "metadata": {},
   "source": [
    "### CSV Manipulation Machine\n",
    "The Following cell collects the massive dataset from \"alleghenyassetmap.csv\" and compacts it down into \"assets.csv\" which for all assets now holds only the asset's name, neighborhood in which it resides, and the tyoe of asset that it is. The neighborhood was not within the data so it had to be determined for each. *It takes a long time to run as the dataset is large*, we later found a faster better was to do this for the asbestos dataset, but this is what I started with, I put it in a csv so that the net step could be done repeatedly without having to run this behemoth every time."
   ]
  },
  {
   "cell_type": "code",
   "execution_count": null,
   "metadata": {},
   "outputs": [],
   "source": [
    "import pandas as pd\n",
    "import csv\n",
    "import fpsnippets\n",
    "from collections import defaultdict "
   ]
  },
  {
   "cell_type": "code",
   "execution_count": 17,
   "metadata": {},
   "outputs": [],
   "source": [
    "# default dict to determine type\n",
    "def def_value(): \n",
    "    return 'string'\n",
    "# initialize coords from csv\n",
    "d = defaultdict(def_value) \n",
    "d[\"latitude\"] = 'float'\n",
    "d[\"longitude\"] = 'float'\n",
    "d[\"asset_type\"] = 'str'\n",
    "d[\"_id\"] = 'int'\n",
    "d[\"name\"] = 'str'\n",
    "\n",
    "# places and assets\n",
    "places = pd.read_csv(\"alleghenyassetmap.csv\", usecols=['_id', 'name', 'asset_type', 'latitude', 'longitude'], index_col=\"_id\", dtype=d)\n",
    "assets = pd.DataFrame(columns=('name', 'asset_type', 'neighborhood',))\n",
    "\n",
    "\n",
    "#for every lat and long determine neighborhood and add the information to a csv\n",
    "for index, row in places.iterrows():\n",
    "    # Latitude & Longitude input\n",
    "    Latitude = row['latitude']\n",
    "    Longitude = row['longitude']\n",
    "\n",
    "    location = fpsnippets.geo_to_neighborhood(Latitude, Longitude)\n",
    "    \n",
    "    if location != None :\n",
    "        # data in this row\n",
    "        new_row = pd.Series(\n",
    "            {\"name\": row['name'],\n",
    "             \"asset_type\": row['asset_type'],\n",
    "             \"neighborhood\": location})\n",
    "        #append row's data to assets\n",
    "        assets = pd.concat([assets, new_row.to_frame().T], ignore_index=True)\n",
    "        \n",
    "#assets ro csv: relevantplaces.csv\n",
    "assets.to_csv('assets.csv', sep=',', index=False, encoding='utf-8')\n",
    "        "
   ]
  },
  {
   "cell_type": "markdown",
   "metadata": {},
   "source": [
    "### More CSV Magic and a Graph also, Yay!\n",
    "\n",
    "The following code block takes the simplified data from \"assets.csv\" and counts how many of a desired asset (restauraunts in this case) each neighborhood has, it puts this data in \"neighborhood_counts.csv\" as well as graphs it visually. The csv certainly need not to be made, but it certainly helped in troubleshooting, so made it was."
   ]
  },
  {
   "cell_type": "code",
   "execution_count": 2,
   "metadata": {},
   "outputs": [
    {
     "data": {
      "image/png": "[encoded data removed]",
      "text/plain": [
       "<Figure size 720x720 with 1 Axes>"
      ]
     },
     "metadata": {
      "needs_background": "light"
     },
     "output_type": "display_data"
    }
   ],
   "source": [
    "import pandas as pd\n",
    "import csv\n",
    "import fpsnippets\n",
    "from collections import defaultdict \n",
    "\n",
    "# places and relevant places\n",
    "assets = pd.read_csv(\"assets.csv\", usecols=['name', 'asset_type', 'neighborhood'], dtype=str)\n",
    "desired_asset = 'restaurants'\n",
    "\n",
    "all_desired_assets = assets[assets['asset_type'] == desired_asset]\n",
    "\n",
    "# Group by 'neighborhood' and count the number of the desired assets in each neighborhood\n",
    "neighborhood_counts = all_desired_assets.groupby('neighborhood').size().reset_index(name='restaurant_count')\n",
    "neighborhood_counts.columns = ['neighborhood', 'count']\n",
    "neighborhood_counts = neighborhood_counts.sort_values(by='count', ascending=True)\n",
    "\n",
    "\n",
    "# Save the result to a new CSV file\n",
    "neighborhood_counts.to_csv('neighborhood_counts.csv', index=False)\n",
    "ax = neighborhood_counts.tail(15).plot.barh(color=\"lime\", x='neighborhood', y='count', figsize=(10, 10,), title='Count of '+desired_asset.capitalize()+' by Neighborhood')"
   ]
  },
  {
   "cell_type": "markdown",
   "metadata": {},
   "source": [
    "### Analysis\n",
    "Our rat families love to eat, and thus I plotted the top 15 places for restaurants in Pittsburgh! This doesn't necessarily account for the size of the neighborhood, but being a large neighborhood comes with pros and cons... One pro is more room for restaurants... and rats. The rats will feast on the bountiful leftovers from locations like the Central Business District, South Side Flats, and Bloomfield. As far as restaurant quantity the neighborhoods at the top of this graph take the cake! Central Business District had a whopping 277, so thats the best place for them to snack on leftovers...\n",
    "\n",
    "or seek employment:\n",
    "![employment](https://media.giphy.com/media/wNDa1OZtvl6Fi/giphy.gif)"
   ]
  },
  {
   "cell_type": "markdown",
   "metadata": {},
   "source": [
    "# Asbestos Permits Analysis"
   ]
  },
  {
   "cell_type": "markdown",
   "metadata": {},
   "source": [
    "### By: Amy Zhang"
   ]
  },
  {
   "cell_type": "markdown",
   "metadata": {},
   "source": [
    "##### Dataset: [Asbestos Permit Data](https://data.wprdc.org/dataset/allegheny-county-asbestos-permit/resource/0a5408a4-8358-4b14-9317-090db7c61fd9)"
   ]
  },
  {
   "cell_type": "markdown",
   "metadata": {},
   "source": [
    "### Measurement- Ease of which rats can be left alone\n",
    "One measure of rat family \"sliving\" (slaying, living) is how great of a chance that pesky humans will not encroach on their space. Asbestos permits are a great way to measure the abandonment of buidings, as very few humans will be here, guaranteeing the rats no need to share a living space with people that want to kill them. \n",
    "\n",
    "The way this is measured is by ranking the top 15 neighborhoods with the most active asbestos permits."
   ]
  },
  {
   "cell_type": "code",
   "execution_count": 3,
   "metadata": {},
   "outputs": [
    {
     "data": {
      "text/html": [
       "<div>\n",
       "<style scoped>\n",
       "    .dataframe tbody tr th:only-of-type {\n",
       "        vertical-align: middle;\n",
       "    }\n",
       "\n",
       "    .dataframe tbody tr th {\n",
       "        vertical-align: top;\n",
       "    }\n",
       "\n",
       "    .dataframe thead th {\n",
       "        text-align: right;\n",
       "    }\n",
       "</style>\n",
       "<table border=\"1\" class=\"dataframe\">\n",
       "  <thead>\n",
       "    <tr style=\"text-align: right;\">\n",
       "      <th></th>\n",
       "      <th>_id</th>\n",
       "      <th>permit_number</th>\n",
       "      <th>s_name</th>\n",
       "      <th>s_address</th>\n",
       "      <th>city</th>\n",
       "      <th>z_code</th>\n",
       "      <th>p_fee</th>\n",
       "      <th>pa_license_no</th>\n",
       "      <th>contractor_name</th>\n",
       "      <th>permit_specifications</th>\n",
       "      <th>...</th>\n",
       "      <th>i_date</th>\n",
       "      <th>e_date</th>\n",
       "      <th>achd_inspector</th>\n",
       "      <th>job_complete</th>\n",
       "      <th>is_permit_date_extended</th>\n",
       "      <th>permit_o_e_date</th>\n",
       "      <th>project_type</th>\n",
       "      <th>status</th>\n",
       "      <th>latitude</th>\n",
       "      <th>longitude</th>\n",
       "    </tr>\n",
       "  </thead>\n",
       "  <tbody>\n",
       "    <tr>\n",
       "      <th>915</th>\n",
       "      <td>1878800</td>\n",
       "      <td>PAA232002</td>\n",
       "      <td>DUQUESNE LIGHT COMPANY- 2825 NEW BEAVER AVE</td>\n",
       "      <td>NaN</td>\n",
       "      <td>PITTSBURGH</td>\n",
       "      <td>15233</td>\n",
       "      <td>850.0</td>\n",
       "      <td>918.0</td>\n",
       "      <td>DUQUESNE LIGHT COMPANY</td>\n",
       "      <td>REMOVE ARC-PROOF TAPE/PROOFING CEMENT IN VARIO...</td>\n",
       "      <td>...</td>\n",
       "      <td>2023-01-01</td>\n",
       "      <td>2023-12-31</td>\n",
       "      <td>CALI FEENEY</td>\n",
       "      <td>f</td>\n",
       "      <td>f</td>\n",
       "      <td>2023-12-31</td>\n",
       "      <td>PAA</td>\n",
       "      <td>ACTIVE</td>\n",
       "      <td>40.463914</td>\n",
       "      <td>-80.045183</td>\n",
       "    </tr>\n",
       "    <tr>\n",
       "      <th>1079</th>\n",
       "      <td>1878964</td>\n",
       "      <td>PAA234088</td>\n",
       "      <td>MUNICIPALITY REGULATED PROPERTY</td>\n",
       "      <td>320 COLLINS DRIVE</td>\n",
       "      <td>PITTSBURGH</td>\n",
       "      <td>15235</td>\n",
       "      <td>350.0</td>\n",
       "      <td>902.0</td>\n",
       "      <td>AMERICAN CONTRACTING ENTERPRISES, INC.</td>\n",
       "      <td>REMOVE ASBESTOS CONTAINING DEBRIS THROUGHOUT S...</td>\n",
       "      <td>...</td>\n",
       "      <td>2023-01-23</td>\n",
       "      <td>2023-12-31</td>\n",
       "      <td>JOE YAKUBISIN</td>\n",
       "      <td>NaN</td>\n",
       "      <td>NaN</td>\n",
       "      <td>NaN</td>\n",
       "      <td>PAA</td>\n",
       "      <td>ACTIVE</td>\n",
       "      <td>40.465340</td>\n",
       "      <td>-79.812024</td>\n",
       "    </tr>\n",
       "    <tr>\n",
       "      <th>1193</th>\n",
       "      <td>1879078</td>\n",
       "      <td>PAA234055</td>\n",
       "      <td>CITY OF MCKEESPORT REGULATED PROPERTY</td>\n",
       "      <td>910 SOLES STREET</td>\n",
       "      <td>MCKEESPORT</td>\n",
       "      <td>15132</td>\n",
       "      <td>350.0</td>\n",
       "      <td>971.0</td>\n",
       "      <td>TRIFECTA TEAM, LLC</td>\n",
       "      <td>DEMO IN PLACE - UNSAFE STRUCTURE</td>\n",
       "      <td>...</td>\n",
       "      <td>2023-01-23</td>\n",
       "      <td>2024-01-23</td>\n",
       "      <td>JOE YAKUBISIN</td>\n",
       "      <td>NaN</td>\n",
       "      <td>NaN</td>\n",
       "      <td>NaN</td>\n",
       "      <td>PAA</td>\n",
       "      <td>ACTIVE</td>\n",
       "      <td>40.347608</td>\n",
       "      <td>-79.848797</td>\n",
       "    </tr>\n",
       "    <tr>\n",
       "      <th>1194</th>\n",
       "      <td>1879079</td>\n",
       "      <td>PAA234074</td>\n",
       "      <td>CITY OF MCKEESPORT REGULATED PROPERTY</td>\n",
       "      <td>705 VERNER ALLEY</td>\n",
       "      <td>MCKEESPORT</td>\n",
       "      <td>15132</td>\n",
       "      <td>350.0</td>\n",
       "      <td>971.0</td>\n",
       "      <td>TRIFECTA TEAM, LLC</td>\n",
       "      <td>DEMO IN PLACE - UNSAFE STRUCTURE</td>\n",
       "      <td>...</td>\n",
       "      <td>2023-01-23</td>\n",
       "      <td>2024-01-23</td>\n",
       "      <td>JOE YAKUBISIN</td>\n",
       "      <td>NaN</td>\n",
       "      <td>NaN</td>\n",
       "      <td>NaN</td>\n",
       "      <td>PAA</td>\n",
       "      <td>ACTIVE</td>\n",
       "      <td>40.349502</td>\n",
       "      <td>-79.856440</td>\n",
       "    </tr>\n",
       "    <tr>\n",
       "      <th>1241</th>\n",
       "      <td>1879126</td>\n",
       "      <td>PAA234054</td>\n",
       "      <td>CITY OF MCKEESPORT REGULATED PROPERTY</td>\n",
       "      <td>908 SOLES STREET</td>\n",
       "      <td>MCKEESPORT</td>\n",
       "      <td>15132</td>\n",
       "      <td>350.0</td>\n",
       "      <td>971.0</td>\n",
       "      <td>TRIFECTA TEAM, LLC</td>\n",
       "      <td>DEMO IN PLACE - UNSAFE STRUCTURE</td>\n",
       "      <td>...</td>\n",
       "      <td>2023-01-23</td>\n",
       "      <td>2024-01-23</td>\n",
       "      <td>JOE YAKUBISIN</td>\n",
       "      <td>NaN</td>\n",
       "      <td>NaN</td>\n",
       "      <td>NaN</td>\n",
       "      <td>PAA</td>\n",
       "      <td>ACTIVE</td>\n",
       "      <td>40.347678</td>\n",
       "      <td>-79.848843</td>\n",
       "    </tr>\n",
       "  </tbody>\n",
       "</table>\n",
       "<p>5 rows × 22 columns</p>\n",
       "</div>"
      ],
      "text/plain": [
       "          _id permit_number                                       s_name  \\\n",
       "915   1878800     PAA232002  DUQUESNE LIGHT COMPANY- 2825 NEW BEAVER AVE   \n",
       "1079  1878964     PAA234088              MUNICIPALITY REGULATED PROPERTY   \n",
       "1193  1879078     PAA234055        CITY OF MCKEESPORT REGULATED PROPERTY   \n",
       "1194  1879079     PAA234074        CITY OF MCKEESPORT REGULATED PROPERTY   \n",
       "1241  1879126     PAA234054        CITY OF MCKEESPORT REGULATED PROPERTY   \n",
       "\n",
       "              s_address        city z_code  p_fee  pa_license_no  \\\n",
       "915                 NaN  PITTSBURGH  15233  850.0          918.0   \n",
       "1079  320 COLLINS DRIVE  PITTSBURGH  15235  350.0          902.0   \n",
       "1193   910 SOLES STREET  MCKEESPORT  15132  350.0          971.0   \n",
       "1194   705 VERNER ALLEY  MCKEESPORT  15132  350.0          971.0   \n",
       "1241   908 SOLES STREET  MCKEESPORT  15132  350.0          971.0   \n",
       "\n",
       "                             contractor_name  \\\n",
       "915                   DUQUESNE LIGHT COMPANY   \n",
       "1079  AMERICAN CONTRACTING ENTERPRISES, INC.   \n",
       "1193                      TRIFECTA TEAM, LLC   \n",
       "1194                      TRIFECTA TEAM, LLC   \n",
       "1241                      TRIFECTA TEAM, LLC   \n",
       "\n",
       "                                  permit_specifications  ...      i_date  \\\n",
       "915   REMOVE ARC-PROOF TAPE/PROOFING CEMENT IN VARIO...  ...  2023-01-01   \n",
       "1079  REMOVE ASBESTOS CONTAINING DEBRIS THROUGHOUT S...  ...  2023-01-23   \n",
       "1193                   DEMO IN PLACE - UNSAFE STRUCTURE  ...  2023-01-23   \n",
       "1194                   DEMO IN PLACE - UNSAFE STRUCTURE  ...  2023-01-23   \n",
       "1241                   DEMO IN PLACE - UNSAFE STRUCTURE  ...  2023-01-23   \n",
       "\n",
       "          e_date achd_inspector job_complete is_permit_date_extended  \\\n",
       "915   2023-12-31    CALI FEENEY            f                       f   \n",
       "1079  2023-12-31  JOE YAKUBISIN          NaN                     NaN   \n",
       "1193  2024-01-23  JOE YAKUBISIN          NaN                     NaN   \n",
       "1194  2024-01-23  JOE YAKUBISIN          NaN                     NaN   \n",
       "1241  2024-01-23  JOE YAKUBISIN          NaN                     NaN   \n",
       "\n",
       "     permit_o_e_date project_type  status   latitude  longitude  \n",
       "915       2023-12-31          PAA  ACTIVE  40.463914 -80.045183  \n",
       "1079             NaN          PAA  ACTIVE  40.465340 -79.812024  \n",
       "1193             NaN          PAA  ACTIVE  40.347608 -79.848797  \n",
       "1194             NaN          PAA  ACTIVE  40.349502 -79.856440  \n",
       "1241             NaN          PAA  ACTIVE  40.347678 -79.848843  \n",
       "\n",
       "[5 rows x 22 columns]"
      ]
     },
     "execution_count": 3,
     "metadata": {},
     "output_type": "execute_result"
    }
   ],
   "source": [
    "# Load in asbestos permits dataset\n",
    "asbestos = pd.read_csv(\"Asbestos.csv\")\n",
    "asbestos.head()\n",
    "\n",
    "#Narrow it down to only active ones (status column is active)\n",
    "asbestos_active= asbestos[asbestos[\"status\"]== \"ACTIVE\"]\n",
    "#count = len(newAsbestos)\n",
    "#print(row_count)\n",
    "asbestos_active.head()"
   ]
  },
  {
   "cell_type": "markdown",
   "metadata": {},
   "source": [
    "I filtered the data to include only the “active” status permits, as the “complete” status could mean the building or zone is already renovated or demolished. It would be nice for the rats to have a nice renovated home, but I did not want to take the chance that the building was no longer standing. This could also mean this zone is an active construction area, meaning there is increased danger around as it is a heavily tafficked area with many humans and construction machines around. We cannot have that for our rat family. An active status could mean that the building is simply being prepared for renovation or demolition, and a lot of them stand empty and abandoned for months before demolition. This guarantees that there are no meddling people or construction workers, ensuring survival for our rats. \n",
    "\n",
    "[source](https://www.alleghenycounty.us/uploadedFiles/Allegheny_Home/Health_Department/Programs/Air_Quality/2022_Asbestos-Fact-Sheet-new.pdf )\n"
   ]
  },
  {
   "cell_type": "code",
   "execution_count": 4,
   "metadata": {},
   "outputs": [
    {
     "data": {
      "text/html": [
       "<div>\n",
       "<style scoped>\n",
       "    .dataframe tbody tr th:only-of-type {\n",
       "        vertical-align: middle;\n",
       "    }\n",
       "\n",
       "    .dataframe tbody tr th {\n",
       "        vertical-align: top;\n",
       "    }\n",
       "\n",
       "    .dataframe thead th {\n",
       "        text-align: right;\n",
       "    }\n",
       "</style>\n",
       "<table border=\"1\" class=\"dataframe\">\n",
       "  <thead>\n",
       "    <tr style=\"text-align: right;\">\n",
       "      <th></th>\n",
       "      <th>permit number</th>\n",
       "      <th>lat</th>\n",
       "      <th>long</th>\n",
       "      <th>neighborhood</th>\n",
       "    </tr>\n",
       "  </thead>\n",
       "  <tbody>\n",
       "    <tr>\n",
       "      <th>915</th>\n",
       "      <td>PAA232002</td>\n",
       "      <td>40.463914</td>\n",
       "      <td>-80.045183</td>\n",
       "      <td>NaN</td>\n",
       "    </tr>\n",
       "    <tr>\n",
       "      <th>1079</th>\n",
       "      <td>PAA234088</td>\n",
       "      <td>40.465340</td>\n",
       "      <td>-79.812024</td>\n",
       "      <td>NaN</td>\n",
       "    </tr>\n",
       "    <tr>\n",
       "      <th>1193</th>\n",
       "      <td>PAA234055</td>\n",
       "      <td>40.347608</td>\n",
       "      <td>-79.848797</td>\n",
       "      <td>NaN</td>\n",
       "    </tr>\n",
       "    <tr>\n",
       "      <th>1194</th>\n",
       "      <td>PAA234074</td>\n",
       "      <td>40.349502</td>\n",
       "      <td>-79.856440</td>\n",
       "      <td>NaN</td>\n",
       "    </tr>\n",
       "    <tr>\n",
       "      <th>1241</th>\n",
       "      <td>PAA234054</td>\n",
       "      <td>40.347678</td>\n",
       "      <td>-79.848843</td>\n",
       "      <td>NaN</td>\n",
       "    </tr>\n",
       "  </tbody>\n",
       "</table>\n",
       "</div>"
      ],
      "text/plain": [
       "     permit number        lat       long neighborhood\n",
       "915      PAA232002  40.463914 -80.045183          NaN\n",
       "1079     PAA234088  40.465340 -79.812024          NaN\n",
       "1193     PAA234055  40.347608 -79.848797          NaN\n",
       "1194     PAA234074  40.349502 -79.856440          NaN\n",
       "1241     PAA234054  40.347678 -79.848843          NaN"
      ]
     },
     "execution_count": 4,
     "metadata": {},
     "output_type": "execute_result"
    }
   ],
   "source": [
    "# create a data dict for the columns\n",
    "newAsbestos = pd.DataFrame(columns=['permit number', 'lat', 'long', 'neighborhood'])\n",
    "newAsbestos = newAsbestos.astype({\n",
    "    \"permit number\": str,\n",
    "    \"lat\": float,\n",
    "    \"long\": float,\n",
    "    \"neighborhood\": str\n",
    "})\n",
    "# new columns\n",
    "newAsbestos[\"permit number\"] = asbestos_active[\"permit_number\"]\n",
    "newAsbestos[\"lat\"] = asbestos_active[\"latitude\"]\n",
    "newAsbestos[\"long\"] = asbestos_active[\"longitude\"]\n",
    "\n",
    "newAsbestos.head()"
   ]
  },
  {
   "cell_type": "code",
   "execution_count": 6,
   "metadata": {},
   "outputs": [
    {
     "data": {
      "text/html": [
       "<div>\n",
       "<style scoped>\n",
       "    .dataframe tbody tr th:only-of-type {\n",
       "        vertical-align: middle;\n",
       "    }\n",
       "\n",
       "    .dataframe tbody tr th {\n",
       "        vertical-align: top;\n",
       "    }\n",
       "\n",
       "    .dataframe thead th {\n",
       "        text-align: right;\n",
       "    }\n",
       "</style>\n",
       "<table border=\"1\" class=\"dataframe\">\n",
       "  <thead>\n",
       "    <tr style=\"text-align: right;\">\n",
       "      <th></th>\n",
       "      <th>permit number</th>\n",
       "      <th>lat</th>\n",
       "      <th>long</th>\n",
       "      <th>neighborhood</th>\n",
       "    </tr>\n",
       "  </thead>\n",
       "  <tbody>\n",
       "    <tr>\n",
       "      <th>915</th>\n",
       "      <td>PAA232002</td>\n",
       "      <td>40.463914</td>\n",
       "      <td>-80.045183</td>\n",
       "      <td>Marshall-Shadeland</td>\n",
       "    </tr>\n",
       "    <tr>\n",
       "      <th>1079</th>\n",
       "      <td>PAA234088</td>\n",
       "      <td>40.465340</td>\n",
       "      <td>-79.812024</td>\n",
       "      <td>None</td>\n",
       "    </tr>\n",
       "    <tr>\n",
       "      <th>1193</th>\n",
       "      <td>PAA234055</td>\n",
       "      <td>40.347608</td>\n",
       "      <td>-79.848797</td>\n",
       "      <td>None</td>\n",
       "    </tr>\n",
       "    <tr>\n",
       "      <th>1194</th>\n",
       "      <td>PAA234074</td>\n",
       "      <td>40.349502</td>\n",
       "      <td>-79.856440</td>\n",
       "      <td>None</td>\n",
       "    </tr>\n",
       "    <tr>\n",
       "      <th>1241</th>\n",
       "      <td>PAA234054</td>\n",
       "      <td>40.347678</td>\n",
       "      <td>-79.848843</td>\n",
       "      <td>None</td>\n",
       "    </tr>\n",
       "    <tr>\n",
       "      <th>1242</th>\n",
       "      <td>PAA234059</td>\n",
       "      <td>40.346880</td>\n",
       "      <td>-79.848437</td>\n",
       "      <td>None</td>\n",
       "    </tr>\n",
       "    <tr>\n",
       "      <th>1261</th>\n",
       "      <td>PAA234060</td>\n",
       "      <td>40.346362</td>\n",
       "      <td>-79.848383</td>\n",
       "      <td>None</td>\n",
       "    </tr>\n",
       "    <tr>\n",
       "      <th>1271</th>\n",
       "      <td>PAA234066</td>\n",
       "      <td>40.341071</td>\n",
       "      <td>-79.849485</td>\n",
       "      <td>None</td>\n",
       "    </tr>\n",
       "    <tr>\n",
       "      <th>1475</th>\n",
       "      <td>PAA234075</td>\n",
       "      <td>40.348036</td>\n",
       "      <td>-79.853904</td>\n",
       "      <td>None</td>\n",
       "    </tr>\n",
       "    <tr>\n",
       "      <th>1578</th>\n",
       "      <td>DEM220308</td>\n",
       "      <td>40.493368</td>\n",
       "      <td>-79.783177</td>\n",
       "      <td>None</td>\n",
       "    </tr>\n",
       "    <tr>\n",
       "      <th>2871</th>\n",
       "      <td>DEM220305</td>\n",
       "      <td>40.407257</td>\n",
       "      <td>-79.858385</td>\n",
       "      <td>None</td>\n",
       "    </tr>\n",
       "    <tr>\n",
       "      <th>2885</th>\n",
       "      <td>PAA220604</td>\n",
       "      <td>40.442581</td>\n",
       "      <td>-79.961792</td>\n",
       "      <td>West Oakland</td>\n",
       "    </tr>\n",
       "    <tr>\n",
       "      <th>3810</th>\n",
       "      <td>PAA230125</td>\n",
       "      <td>NaN</td>\n",
       "      <td>NaN</td>\n",
       "      <td>None</td>\n",
       "    </tr>\n",
       "    <tr>\n",
       "      <th>4077</th>\n",
       "      <td>PAA230043</td>\n",
       "      <td>40.573406</td>\n",
       "      <td>-80.014990</td>\n",
       "      <td>None</td>\n",
       "    </tr>\n",
       "    <tr>\n",
       "      <th>4487</th>\n",
       "      <td>PAA230027</td>\n",
       "      <td>40.442247</td>\n",
       "      <td>-79.960929</td>\n",
       "      <td>West Oakland</td>\n",
       "    </tr>\n",
       "    <tr>\n",
       "      <th>4831</th>\n",
       "      <td>PAA234058</td>\n",
       "      <td>40.347077</td>\n",
       "      <td>-79.848474</td>\n",
       "      <td>None</td>\n",
       "    </tr>\n",
       "    <tr>\n",
       "      <th>4872</th>\n",
       "      <td>PAA232014</td>\n",
       "      <td>40.618267</td>\n",
       "      <td>-79.736924</td>\n",
       "      <td>None</td>\n",
       "    </tr>\n",
       "    <tr>\n",
       "      <th>4981</th>\n",
       "      <td>PAA230045</td>\n",
       "      <td>NaN</td>\n",
       "      <td>NaN</td>\n",
       "      <td>None</td>\n",
       "    </tr>\n",
       "    <tr>\n",
       "      <th>5459</th>\n",
       "      <td>PAA224562</td>\n",
       "      <td>40.470131</td>\n",
       "      <td>-80.026204</td>\n",
       "      <td>Marshall-Shadeland</td>\n",
       "    </tr>\n",
       "    <tr>\n",
       "      <th>5507</th>\n",
       "      <td>PAA220599</td>\n",
       "      <td>40.444310</td>\n",
       "      <td>-79.953197</td>\n",
       "      <td>North Oakland</td>\n",
       "    </tr>\n",
       "  </tbody>\n",
       "</table>\n",
       "</div>"
      ],
      "text/plain": [
       "     permit number        lat       long        neighborhood\n",
       "915      PAA232002  40.463914 -80.045183  Marshall-Shadeland\n",
       "1079     PAA234088  40.465340 -79.812024                None\n",
       "1193     PAA234055  40.347608 -79.848797                None\n",
       "1194     PAA234074  40.349502 -79.856440                None\n",
       "1241     PAA234054  40.347678 -79.848843                None\n",
       "1242     PAA234059  40.346880 -79.848437                None\n",
       "1261     PAA234060  40.346362 -79.848383                None\n",
       "1271     PAA234066  40.341071 -79.849485                None\n",
       "1475     PAA234075  40.348036 -79.853904                None\n",
       "1578     DEM220308  40.493368 -79.783177                None\n",
       "2871     DEM220305  40.407257 -79.858385                None\n",
       "2885     PAA220604  40.442581 -79.961792        West Oakland\n",
       "3810     PAA230125        NaN        NaN                None\n",
       "4077     PAA230043  40.573406 -80.014990                None\n",
       "4487     PAA230027  40.442247 -79.960929        West Oakland\n",
       "4831     PAA234058  40.347077 -79.848474                None\n",
       "4872     PAA232014  40.618267 -79.736924                None\n",
       "4981     PAA230045        NaN        NaN                None\n",
       "5459     PAA224562  40.470131 -80.026204  Marshall-Shadeland\n",
       "5507     PAA220599  40.444310 -79.953197       North Oakland"
      ]
     },
     "execution_count": 6,
     "metadata": {},
     "output_type": "execute_result"
    }
   ],
   "source": [
    "# Use fpsnippets to get permits sorted into neighborhoods, fill neighborhood columns with names\n",
    "for index, row in newAsbestos.iterrows():\n",
    "    latit = row[\"lat\"]\n",
    "    longi= row[\"long\"]\n",
    "    neighborhood_name= fpsnippets.geo_to_neighborhood(latit,longi)\n",
    "    newAsbestos.loc[index, 'neighborhood'] = neighborhood_name\n",
    "newAsbestos.head(20)"
   ]
  },
  {
   "cell_type": "markdown",
   "metadata": {},
   "source": [
    "I am only interested in the datapoints that contain a neighborhood in Pittsburgh, so I used a query mask to exclude the Neighborhoods with \"None\"."
   ]
  },
  {
   "cell_type": "code",
   "execution_count": 7,
   "metadata": {},
   "outputs": [
    {
     "data": {
      "text/html": [
       "<div>\n",
       "<style scoped>\n",
       "    .dataframe tbody tr th:only-of-type {\n",
       "        vertical-align: middle;\n",
       "    }\n",
       "\n",
       "    .dataframe tbody tr th {\n",
       "        vertical-align: top;\n",
       "    }\n",
       "\n",
       "    .dataframe thead th {\n",
       "        text-align: right;\n",
       "    }\n",
       "</style>\n",
       "<table border=\"1\" class=\"dataframe\">\n",
       "  <thead>\n",
       "    <tr style=\"text-align: right;\">\n",
       "      <th></th>\n",
       "      <th>permit number</th>\n",
       "      <th>lat</th>\n",
       "      <th>long</th>\n",
       "      <th>neighborhood</th>\n",
       "    </tr>\n",
       "  </thead>\n",
       "  <tbody>\n",
       "    <tr>\n",
       "      <th>915</th>\n",
       "      <td>PAA232002</td>\n",
       "      <td>40.463914</td>\n",
       "      <td>-80.045183</td>\n",
       "      <td>Marshall-Shadeland</td>\n",
       "    </tr>\n",
       "    <tr>\n",
       "      <th>2885</th>\n",
       "      <td>PAA220604</td>\n",
       "      <td>40.442581</td>\n",
       "      <td>-79.961792</td>\n",
       "      <td>West Oakland</td>\n",
       "    </tr>\n",
       "    <tr>\n",
       "      <th>4487</th>\n",
       "      <td>PAA230027</td>\n",
       "      <td>40.442247</td>\n",
       "      <td>-79.960929</td>\n",
       "      <td>West Oakland</td>\n",
       "    </tr>\n",
       "    <tr>\n",
       "      <th>5459</th>\n",
       "      <td>PAA224562</td>\n",
       "      <td>40.470131</td>\n",
       "      <td>-80.026204</td>\n",
       "      <td>Marshall-Shadeland</td>\n",
       "    </tr>\n",
       "    <tr>\n",
       "      <th>5507</th>\n",
       "      <td>PAA220599</td>\n",
       "      <td>40.444310</td>\n",
       "      <td>-79.953197</td>\n",
       "      <td>North Oakland</td>\n",
       "    </tr>\n",
       "  </tbody>\n",
       "</table>\n",
       "</div>"
      ],
      "text/plain": [
       "     permit number        lat       long        neighborhood\n",
       "915      PAA232002  40.463914 -80.045183  Marshall-Shadeland\n",
       "2885     PAA220604  40.442581 -79.961792        West Oakland\n",
       "4487     PAA230027  40.442247 -79.960929        West Oakland\n",
       "5459     PAA224562  40.470131 -80.026204  Marshall-Shadeland\n",
       "5507     PAA220599  40.444310 -79.953197       North Oakland"
      ]
     },
     "execution_count": 7,
     "metadata": {},
     "output_type": "execute_result"
    }
   ],
   "source": [
    "# Exclude none neighborhoods\n",
    "neighborhood_notNone_mask = (newAsbestos['neighborhood'].notnull())\n",
    "\n",
    "# Apply the mask to filter the DataFrame\n",
    "filtered_newAsbestos = newAsbestos[neighborhood_notNone_mask]\n",
    "\n",
    "# Display the filtered DataFrame\n",
    "filtered_newAsbestos.head()"
   ]
  },
  {
   "cell_type": "markdown",
   "metadata": {},
   "source": [
    "An additional step so we can see the ones that fall on the bottom and the top of the rankings is creating a new csv out of this dataframe:"
   ]
  },
  {
   "cell_type": "code",
   "execution_count": 8,
   "metadata": {},
   "outputs": [],
   "source": [
    "# change into a csv\n",
    "filtered_newAsbestos.to_csv(\"filtered_newAsbestos.csv\", sep=',', index= False, encoding = 'utf-8')"
   ]
  },
  {
   "cell_type": "markdown",
   "metadata": {},
   "source": [
    "Now, it's time to rank the neighborhoods based on the ones with the most active asbestos permits!"
   ]
  },
  {
   "cell_type": "code",
   "execution_count": 9,
   "metadata": {},
   "outputs": [
    {
     "data": {
      "text/plain": [
       "Central Business District    24\n",
       "Homewood North               15\n",
       "North Oakland                12\n",
       "West Oakland                 11\n",
       "Squirrel Hill North           7\n",
       "Marshall-Shadeland            6\n",
       "Spring Garden                 6\n",
       "Central Oakland               6\n",
       "Bluff                         5\n",
       "Perry North                   5\n",
       "Shadyside                     4\n",
       "Perry South                   4\n",
       "South Side Flats              4\n",
       "Bloomfield                    4\n",
       "East Hills                    3\n",
       "Squirrel Hill South           3\n",
       "Central Northside             3\n",
       "Lincoln-Lemington-Belmar      3\n",
       "Fineview                      2\n",
       "Beechview                     2\n",
       "Sheraden                      2\n",
       "Knoxville                     2\n",
       "Allegheny Center              2\n",
       "Brighton Heights              2\n",
       "Elliott                       2\n",
       "Chateau                       2\n",
       "Fairywood                     2\n",
       "Homewood South                1\n",
       "Hazelwood                     1\n",
       "Spring Hill-City View         1\n",
       "Overbrook                     1\n",
       "Westwood                      1\n",
       "Crawford-Roberts              1\n",
       "Homewood West                 1\n",
       "Brookline                     1\n",
       "East Liberty                  1\n",
       "Crafton Heights               1\n",
       "Allegheny West                1\n",
       "Beltzhoover                   1\n",
       "Manchester                    1\n",
       "South Oakland                 1\n",
       "Central Lawrenceville         1\n",
       "Greenfield                    1\n",
       "East Carnegie                 1\n",
       "Allentown                     1\n",
       "Name: neighborhood, dtype: int64"
      ]
     },
     "execution_count": 9,
     "metadata": {},
     "output_type": "execute_result"
    }
   ],
   "source": [
    "# count the stuff\n",
    "filtered_newAsbestos['neighborhood'].value_counts()"
   ]
  },
  {
   "cell_type": "markdown",
   "metadata": {},
   "source": [
    "Let's visualize..."
   ]
  },
  {
   "cell_type": "code",
   "execution_count": 10,
   "metadata": {},
   "outputs": [
    {
     "data": {
      "text/plain": [
       "<matplotlib.axes._subplots.AxesSubplot at 0x7f5b65ecc520>"
      ]
     },
     "execution_count": 10,
     "metadata": {},
     "output_type": "execute_result"
    },
    {
     "data": {
      "image/png": "[encoded data removed]",
      "text/plain": [
       "<Figure size 432x288 with 1 Axes>"
      ]
     },
     "metadata": {
      "needs_background": "light"
     },
     "output_type": "display_data"
    }
   ],
   "source": [
    "filtered_newAsbestos.plot(kind='bar', color='skyblue')"
   ]
  },
  {
   "cell_type": "markdown",
   "metadata": {},
   "source": [
    "This basic way of plotting only plotted the coordinates. That shows me nothing!! Second try:"
   ]
  },
  {
   "cell_type": "code",
   "execution_count": 11,
   "metadata": {},
   "outputs": [
    {
     "data": {
      "text/plain": [
       "<matplotlib.axes._subplots.AxesSubplot at 0x7f5b657d00a0>"
      ]
     },
     "execution_count": 11,
     "metadata": {},
     "output_type": "execute_result"
    },
    {
     "data": {
      "image/png": "[encoded data removed]",
      "text/plain": [
       "<Figure size 432x288 with 1 Axes>"
      ]
     },
     "metadata": {
      "needs_background": "light"
     },
     "output_type": "display_data"
    }
   ],
   "source": [
    "# oh thats not...\n",
    "\n",
    "# plot the count\n",
    "counts = filtered_newAsbestos['neighborhood'].value_counts()\n",
    "counts.plot(kind='bar', color='skyblue')"
   ]
  },
  {
   "cell_type": "markdown",
   "metadata": {},
   "source": [
    "Since I am only interested in seeing the neighborhoods with the most active asbestos permits, I just want to see the top 15:"
   ]
  },
  {
   "cell_type": "code",
   "execution_count": 12,
   "metadata": {},
   "outputs": [
    {
     "data": {
      "text/plain": [
       "<matplotlib.axes._subplots.AxesSubplot at 0x7f5b656c0430>"
      ]
     },
     "execution_count": 12,
     "metadata": {},
     "output_type": "execute_result"
    },
    {
     "data": {
      "image/png": "[encoded data removed]",
      "text/plain": [
       "<Figure size 720x720 with 1 Axes>"
      ]
     },
     "metadata": {
      "needs_background": "light"
     },
     "output_type": "display_data"
    }
   ],
   "source": [
    "# only do the top 15\n",
    "counts.head(15).plot(kind='bar', color='skyblue', figsize=(10, 10,))"
   ]
  },
  {
   "cell_type": "markdown",
   "metadata": {},
   "source": [
    "And the winner is obvious. The Central Business District comes in at #1 with 24 active asbestos permits!! Typically, buildings have these permits when they are preparing to be demolished (think tented, abandonded, uncared for). This would be a perfect environment for our family of rats to settle in. Rats are hardy creatures, so they can get their footing here amidst the dilapidated buildings. "
   ]
  },
  {
   "cell_type": "markdown",
   "metadata": {},
   "source": [
    "## Amount of Smart Trash Cans by Neighborhood  "
   ]
  },
  {
   "cell_type": "markdown",
   "metadata": {},
   "source": [
    "### By: Amy Zhang and Gavin Fehl"
   ]
  },
  {
   "cell_type": "markdown",
   "metadata": {},
   "source": [
    "##### Datasets: [Smart Trash Containers](https://data.wprdc.org/dataset/smart-trash-containers/resource/75b83ac9-8069-4cf1-bcc3-b9e6b04487d9)"
   ]
  },
  {
   "cell_type": "markdown",
   "metadata": {},
   "source": [
    "This is code that we wrote together. We used a combined version of our methods with this dataset. \n",
    "\n",
    "### METHOD\n",
    "The thought process here was that smart trash cans have a sensor that detects how full they are. While they are good for eliminating waste in the city, this means they will be emptied more often, meaning our rats can't forage freely in weeks-old sandwiches and apples. \n",
    "\n",
    "[source](https://pittsburghpa.gov/press-releases/press-releases.html?id=2986)\n",
    "\n",
    "this is them in the trashcan:\n",
    "![this is them in the trashcan](https://media.giphy.com/media/nJ2PObJA3EVgc/giphy.gif)\n"
   ]
  },
  {
   "cell_type": "markdown",
   "metadata": {},
   "source": [
    "#### First, load pandas, fpsnippets"
   ]
  },
  {
   "cell_type": "code",
   "execution_count": 13,
   "metadata": {},
   "outputs": [],
   "source": [
    "import pandas as pd\n",
    "%matplotlib inline\n",
    "import fpsnippets "
   ]
  },
  {
   "cell_type": "code",
   "execution_count": 14,
   "metadata": {},
   "outputs": [
    {
     "data": {
      "text/html": [
       "<div>\n",
       "<style scoped>\n",
       "    .dataframe tbody tr th:only-of-type {\n",
       "        vertical-align: middle;\n",
       "    }\n",
       "\n",
       "    .dataframe tbody tr th {\n",
       "        vertical-align: top;\n",
       "    }\n",
       "\n",
       "    .dataframe thead th {\n",
       "        text-align: right;\n",
       "    }\n",
       "</style>\n",
       "<table border=\"1\" class=\"dataframe\">\n",
       "  <thead>\n",
       "    <tr style=\"text-align: right;\">\n",
       "      <th></th>\n",
       "      <th>_id</th>\n",
       "      <th>container_id</th>\n",
       "      <th>receptacle_model_id</th>\n",
       "      <th>assignment_date</th>\n",
       "      <th>last_updated_date</th>\n",
       "      <th>group_name</th>\n",
       "      <th>address</th>\n",
       "      <th>city</th>\n",
       "      <th>state</th>\n",
       "      <th>zip</th>\n",
       "      <th>neighborhood</th>\n",
       "      <th>dpw_division</th>\n",
       "      <th>council_district</th>\n",
       "      <th>ward</th>\n",
       "      <th>fire_zone</th>\n",
       "      <th>x</th>\n",
       "      <th>y</th>\n",
       "    </tr>\n",
       "  </thead>\n",
       "  <tbody>\n",
       "    <tr>\n",
       "      <th>0</th>\n",
       "      <td>228688</td>\n",
       "      <td>1</td>\n",
       "      <td>74</td>\n",
       "      <td>2017-09-14T13:24:40</td>\n",
       "      <td>2022-11-24T13:17:19</td>\n",
       "      <td>1st Division</td>\n",
       "      <td>122 E North Ave</td>\n",
       "      <td>Pittsburgh</td>\n",
       "      <td>Pennsylvania</td>\n",
       "      <td>15212</td>\n",
       "      <td>Central Northside</td>\n",
       "      <td>1.0</td>\n",
       "      <td>1.0</td>\n",
       "      <td>22.0</td>\n",
       "      <td>1-6</td>\n",
       "      <td>-80.004018</td>\n",
       "      <td>40.456073</td>\n",
       "    </tr>\n",
       "    <tr>\n",
       "      <th>1</th>\n",
       "      <td>228689</td>\n",
       "      <td>2</td>\n",
       "      <td>74</td>\n",
       "      <td>2017-09-14T13:24:40</td>\n",
       "      <td>2022-12-31T01:54:25</td>\n",
       "      <td>1st Division</td>\n",
       "      <td>2507 Brighton Rd</td>\n",
       "      <td>Pittsburgh</td>\n",
       "      <td>Pennsylvania</td>\n",
       "      <td>15212</td>\n",
       "      <td>Marshall-Shadeland</td>\n",
       "      <td>1.0</td>\n",
       "      <td>1.0</td>\n",
       "      <td>27.0</td>\n",
       "      <td>1-9</td>\n",
       "      <td>-80.025132</td>\n",
       "      <td>40.467213</td>\n",
       "    </tr>\n",
       "    <tr>\n",
       "      <th>2</th>\n",
       "      <td>228690</td>\n",
       "      <td>3</td>\n",
       "      <td>74</td>\n",
       "      <td>2017-09-14T13:24:40</td>\n",
       "      <td>2022-04-14T01:59:18</td>\n",
       "      <td>1st Division</td>\n",
       "      <td>1300 Federal St</td>\n",
       "      <td>Pittsburgh</td>\n",
       "      <td>Pennsylvania</td>\n",
       "      <td>15212</td>\n",
       "      <td>Central Northside</td>\n",
       "      <td>1.0</td>\n",
       "      <td>1.0</td>\n",
       "      <td>22.0</td>\n",
       "      <td>1-6</td>\n",
       "      <td>-80.006872</td>\n",
       "      <td>40.456625</td>\n",
       "    </tr>\n",
       "  </tbody>\n",
       "</table>\n",
       "</div>"
      ],
      "text/plain": [
       "      _id  container_id  receptacle_model_id      assignment_date  \\\n",
       "0  228688             1                   74  2017-09-14T13:24:40   \n",
       "1  228689             2                   74  2017-09-14T13:24:40   \n",
       "2  228690             3                   74  2017-09-14T13:24:40   \n",
       "\n",
       "     last_updated_date    group_name           address        city  \\\n",
       "0  2022-11-24T13:17:19  1st Division   122 E North Ave  Pittsburgh   \n",
       "1  2022-12-31T01:54:25  1st Division  2507 Brighton Rd  Pittsburgh   \n",
       "2  2022-04-14T01:59:18  1st Division   1300 Federal St  Pittsburgh   \n",
       "\n",
       "          state    zip        neighborhood  dpw_division  council_district  \\\n",
       "0  Pennsylvania  15212   Central Northside           1.0               1.0   \n",
       "1  Pennsylvania  15212  Marshall-Shadeland           1.0               1.0   \n",
       "2  Pennsylvania  15212   Central Northside           1.0               1.0   \n",
       "\n",
       "   ward fire_zone          x          y  \n",
       "0  22.0       1-6 -80.004018  40.456073  \n",
       "1  27.0       1-9 -80.025132  40.467213  \n",
       "2  22.0       1-6 -80.006872  40.456625  "
      ]
     },
     "execution_count": 14,
     "metadata": {},
     "output_type": "execute_result"
    }
   ],
   "source": [
    "#Load in trashcans dataset\n",
    "SmartTrash= pd.read_csv(\"SmartTrash.csv\")\n",
    "SmartTrash.head(3)"
   ]
  },
  {
   "cell_type": "code",
   "execution_count": 15,
   "metadata": {},
   "outputs": [],
   "source": [
    "import pandas as pd\n",
    "import csv\n",
    "import fpsnippets\n",
    "from collections import defaultdict \n",
    "  \n",
    "# default dict to determine type\n",
    "def def_value(): \n",
    "    return 'string'\n",
    "# initialize coords from csv\n",
    "d = defaultdict(def_value) \n",
    "d[\"x\"] = 'float'\n",
    "d[\"y\"] = 'float'\n",
    "d[\"_id\"] = 'int'\n",
    "d[\"container_id\"] = 'int'\n",
    "\n",
    "# places and assets\n",
    "places = pd.read_csv(\"SmartTrash.csv\", usecols=['_id', 'container_id', 'x', 'y'], index_col=\"_id\", dtype=d)\n",
    "trashys = pd.DataFrame(columns=('container_id', 'neighborhood',))\n",
    "\n",
    "\n",
    "#for every lat and long determine neighborhood and add the information to a csv\n",
    "for index, row in places.iterrows():\n",
    "    # Latitude & Longitude input\n",
    "    Latitude = row['y']\n",
    "    Longitude = row['x']\n",
    "    location = fpsnippets.geo_to_neighborhood(Latitude, Longitude)\n",
    "    \n",
    "    if location != None :\n",
    "        # data in this row\n",
    "        new_row = pd.Series(\n",
    "            {\"container_id\": row['container_id'],\n",
    "             \"neighborhood\": location})\n",
    "        #append row's data to assets\n",
    "        trashys = pd.concat([trashys, new_row.to_frame().T], ignore_index=True)\n",
    "        \n",
    "#assets to csv\n",
    "trashys.to_csv('trashcans.csv', sep=',', index=False, encoding='utf-8')"
   ]
  },
  {
   "cell_type": "code",
   "execution_count": 23,
   "metadata": {},
   "outputs": [
    {
     "data": {
      "image/png": "[encoded data removed]",
      "text/plain": [
       "<Figure size 1080x360 with 1 Axes>"
      ]
     },
     "metadata": {
      "needs_background": "light"
     },
     "output_type": "display_data"
    },
    {
     "data": {
      "image/png": "[encoded data removed]",
      "text/plain": [
       "<Figure size 1080x360 with 1 Axes>"
      ]
     },
     "metadata": {
      "needs_background": "light"
     },
     "output_type": "display_data"
    }
   ],
   "source": [
    "# places and relevant places\n",
    "trashcans = pd.read_csv(\"trashcans.csv\", usecols=['container_id', 'neighborhood'], dtype=str)\n",
    "\n",
    "# Group by 'neighborhood' and count the number of the desired assets in each neighborhood\n",
    "neighborhood_counts = trashcans.groupby('neighborhood').size().reset_index(name='restaurant_count')\n",
    "neighborhood_counts.columns = ['neighborhood', 'count']\n",
    "neighborhood_counts = neighborhood_counts.sort_values(by='count', ascending=True)\n",
    "\n",
    "# Save the result to a new CSV file\n",
    "neighborhood_counts.to_csv('neighborhood_top_trash_counts.csv', index=False)\n",
    "ax = neighborhood_counts.head(40).plot.bar(color= \"green\", x='neighborhood', y='count', figsize=(15, 5,), title='40 Neighborhoods with the Least Smart Trashcans.')\n",
    "ax = neighborhood_counts.tail(40).plot.bar(color= \"red\", x='neighborhood', y='count', figsize=(15, 5,), title='40 Neighborhoods with the Most Smart Trashcans.')"
   ]
  },
  {
   "cell_type": "markdown",
   "metadata": {},
   "source": [
    "### Analysis"
   ]
  },
  {
   "cell_type": "markdown",
   "metadata": {},
   "source": [
    "Of neighborhoods with any trashcans at all, Windgap and several others tied for the least smart trashcans with 1. Our running champion so far (for rats), Central Business District, also has a low number still, with only 7. Shadyside had the most smart trashcans with 76. Do better, Shadyside..."
   ]
  },
  {
   "cell_type": "markdown",
   "metadata": {},
   "source": [
    "One huge challenge was that it kept NOT showing the neighborhoods for the latitude and longitude despite using Griffin's amaze snippets. and Gavin was like, let's search up a coordinate and see where it pops up, what if its in antarctica?? And we were like hahahhaa as if. and then we just swapped the points, and it finally works. so we actually look up the coordinates as the way they are in the dataset. and guess where it was.. ANTARCTICA. so i would say that was the most challenging part of the project. "
   ]
  },
  {
   "cell_type": "markdown",
   "metadata": {},
   "source": [
    "# So Which Neighborhood is Best?: Final Analysis"
   ]
  },
  {
   "cell_type": "markdown",
   "metadata": {},
   "source": []
  }
 ],
 "metadata": {
  "kernelspec": {
   "display_name": "Python 3",
   "language": "python",
   "name": "python3"
  },
  "language_info": {
   "codemirror_mode": {
    "name": "ipython",
    "version": 3
   },
   "file_extension": ".py",
   "mimetype": "text/x-python",
   "name": "python",
   "nbconvert_exporter": "python",
   "pygments_lexer": "ipython3",
   "version": "3.8.3"
  }
 },
 "nbformat": 4,
 "nbformat_minor": 4
}

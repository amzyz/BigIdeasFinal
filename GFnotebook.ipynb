{
 "cells": [
  {
   "cell_type": "markdown",
   "metadata": {},
   "source": [
    "# Amount of Restaurants by Neighborhood  "
   ]
  },
  {
   "cell_type": "markdown",
   "metadata": {},
   "source": [
    "## By: Gavin Fehl"
   ]
  },
  {
   "cell_type": "markdown",
   "metadata": {},
   "source": [
    "##### Datasets: [Allegheny County Assets](https://data.wprdc.org/dataset/allegheny-county-assets )"
   ]
  },
  {
   "cell_type": "markdown",
   "metadata": {},
   "source": [
    "## CSV Manipulation Machine\n",
    "The Following cell collects the massive dataset from \"alleghenyassetmap.csv\" and compacts it down into \"assets.csv\" which for all assets now holds only the asset's name, neighborhood in which it resides, and the tyoe of asset that it is. The neighborhood was not within the data so it had to be determined for each. *It takes a long time to run as the dataset is large*, we later found a faster better was to do this for the asbestos dataset, but this is what I started with, I put it in a csv so that the net step could be done repeatedly without having to run this behemoth every time."
   ]
  },
  {
   "cell_type": "code",
   "execution_count": 2,
   "metadata": {},
   "outputs": [],
   "source": [
    "import pandas as pd\n",
    "import csv\n",
    "import fpsnippets\n",
    "from collections import defaultdict \n",
    "  \n",
    "  \n",
    "# default dict to determine type\n",
    "def def_value(): \n",
    "    return 'string'\n",
    "# initialize coords from csv\n",
    "d = defaultdict(def_value) \n",
    "d[\"latitude\"] = 'float'\n",
    "d[\"longitude\"] = 'float'\n",
    "d[\"asset_type\"] = 'str'\n",
    "d[\"_id\"] = 'int'\n",
    "d[\"name\"] = 'str'\n",
    "\n",
    "# places and assets\n",
    "places = pd.read_csv(\"alleghenyassetmap.csv\", usecols=['_id', 'name', 'asset_type', 'latitude', 'longitude'], index_col=\"_id\", dtype=d)\n",
    "assets = pd.DataFrame(columns=('name', 'asset_type', 'neighborhood',))\n",
    "\n",
    "\n",
    "#for every lat and long determine neighborhood and add the information to a csv\n",
    "for index, row in places.iterrows():\n",
    "    # Latitude & Longitude input\n",
    "    Latitude = row['latitude']\n",
    "    Longitude = row['longitude']\n",
    "\n",
    "    location = fpsnippets.geo_to_neighborhood(Latitude, Longitude)\n",
    "    \n",
    "    if location != None :\n",
    "        # data in this row\n",
    "        new_row = pd.Series(\n",
    "            {\"name\": row['name'],\n",
    "             \"asset_type\": row['asset_type'],\n",
    "             \"neighborhood\": location})\n",
    "        #append row's data to assets\n",
    "        assets = pd.concat([assets, new_row.to_frame().T], ignore_index=True)\n",
    "        \n",
    "#assets ro csv: relevantplaces.csv\n",
    "assets.to_csv('assets.csv', sep=',', index=False, encoding='utf-8')\n",
    "        "
   ]
  },
  {
   "cell_type": "markdown",
   "metadata": {},
   "source": [
    "## More CSV Magic and a Graph also, Yay!\n",
    "\n",
    "The following code block takes the simplified data from \"assets.csv\" and counts how many of a desired asset (restauraunts in this case) each neighborhood has, it puts this data in \"neighborhood_counts.csv\" as well as graphs it visually. The csv certainly need not to be made, but it certainly helped in troubleshooting, so made it was."
   ]
  },
  {
   "cell_type": "code",
   "execution_count": 2,
   "metadata": {},
   "outputs": [
    {
     "data": {
      "image/png": "[encoded data removed]",
      "text/plain": [
       "<Figure size 720x720 with 1 Axes>"
      ]
     },
     "metadata": {
      "needs_background": "light"
     },
     "output_type": "display_data"
    }
   ],
   "source": [
    "import pandas as pd\n",
    "import csv\n",
    "import fpsnippets\n",
    "from collections import defaultdict \n",
    "\n",
    "# places and relevant places\n",
    "assets = pd.read_csv(\"assets.csv\", usecols=['name', 'asset_type', 'neighborhood'], dtype=str)\n",
    "desired_asset = 'restaurants'\n",
    "\n",
    "all_desired_assets = assets[assets['asset_type'] == desired_asset]\n",
    "\n",
    "# Group by 'neighborhood' and count the number of the desired assets in each neighborhood\n",
    "neighborhood_counts = all_desired_assets.groupby('neighborhood').size().reset_index(name='restaurant_count')\n",
    "neighborhood_counts.columns = ['neighborhood', 'count']\n",
    "neighborhood_counts = neighborhood_counts.sort_values(by='count', ascending=True)\n",
    "\n",
    "\n",
    "# Save the result to a new CSV file\n",
    "neighborhood_counts.to_csv('neighborhood_counts.csv', index=False)\n",
    "ax = neighborhood_counts.tail(15).plot.barh(color=\"lime\", x='neighborhood', y='count', figsize=(10, 10,), title='Count of '+desired_asset.capitalize()+' by Neighborhood')"
   ]
  },
  {
   "cell_type": "markdown",
   "metadata": {},
   "source": [
    "## Analysis\n",
    "Our rat families love to eat, and thus I plotted the top 15 places for restaurants in Pittsburgh! This doesn't necessarily account for the size of the neighborhood, but being a large neighborhood comes with pros and cons... One pro is more room for restaurants... and rats. The rats will feast on the bountiful leftovers from locations like the Central Business District, South Side Flats, and Bloomfield. As far as restaurant quantity the neighborhoods at the top of this graph take the cake! Central Business District had a whopping 277, so thats the best place for them to snack on leftovers...\n",
    "\n",
    "or seek employment:\n",
    "![employment](https://media.giphy.com/media/wNDa1OZtvl6Fi/giphy.gif)"
   ]
  }
 ],
 "metadata": {
  "kernelspec": {
   "display_name": "Python 3",
   "language": "python",
   "name": "python3"
  },
  "language_info": {
   "codemirror_mode": {
    "name": "ipython",
    "version": 3
   },
   "file_extension": ".py",
   "mimetype": "text/x-python",
   "name": "python",
   "nbconvert_exporter": "python",
   "pygments_lexer": "ipython3",
   "version": "3.8.3"
  }
 },
 "nbformat": 4,
 "nbformat_minor": 4
}

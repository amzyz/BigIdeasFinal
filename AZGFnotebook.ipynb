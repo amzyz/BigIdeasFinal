{
 "cells": [
  {
   "cell_type": "markdown",
   "metadata": {},
   "source": [
    "# Amount of Smart Trash Cans by Neighborhood  "
   ]
  },
  {
   "cell_type": "markdown",
   "metadata": {},
   "source": [
    "## By: Amy Zhang and Gavin Fehl"
   ]
  },
  {
   "cell_type": "markdown",
   "metadata": {},
   "source": [
    "##### Datasets: [Smart Trash Containers](https://data.wprdc.org/dataset/smart-trash-containers/resource/75b83ac9-8069-4cf1-bcc3-b9e6b04487d9)"
   ]
  },
  {
   "cell_type": "markdown",
   "metadata": {},
   "source": [
    "#### First, load pandas, fpsnippets"
   ]
  },
  {
   "cell_type": "code",
   "execution_count": 3,
   "metadata": {},
   "outputs": [],
   "source": [
    "import pandas as pd\n",
    "%matplotlib inline\n",
    "import fpsnippets "
   ]
  },
  {
   "cell_type": "code",
   "execution_count": 4,
   "metadata": {},
   "outputs": [
    {
     "data": {
      "text/html": [
       "<div>\n",
       "<style scoped>\n",
       "    .dataframe tbody tr th:only-of-type {\n",
       "        vertical-align: middle;\n",
       "    }\n",
       "\n",
       "    .dataframe tbody tr th {\n",
       "        vertical-align: top;\n",
       "    }\n",
       "\n",
       "    .dataframe thead th {\n",
       "        text-align: right;\n",
       "    }\n",
       "</style>\n",
       "<table border=\"1\" class=\"dataframe\">\n",
       "  <thead>\n",
       "    <tr style=\"text-align: right;\">\n",
       "      <th></th>\n",
       "      <th>_id</th>\n",
       "      <th>container_id</th>\n",
       "      <th>receptacle_model_id</th>\n",
       "      <th>assignment_date</th>\n",
       "      <th>last_updated_date</th>\n",
       "      <th>group_name</th>\n",
       "      <th>address</th>\n",
       "      <th>city</th>\n",
       "      <th>state</th>\n",
       "      <th>zip</th>\n",
       "      <th>neighborhood</th>\n",
       "      <th>dpw_division</th>\n",
       "      <th>council_district</th>\n",
       "      <th>ward</th>\n",
       "      <th>fire_zone</th>\n",
       "      <th>x</th>\n",
       "      <th>y</th>\n",
       "    </tr>\n",
       "  </thead>\n",
       "  <tbody>\n",
       "    <tr>\n",
       "      <th>0</th>\n",
       "      <td>228688</td>\n",
       "      <td>1</td>\n",
       "      <td>74</td>\n",
       "      <td>2017-09-14T13:24:40</td>\n",
       "      <td>2022-11-24T13:17:19</td>\n",
       "      <td>1st Division</td>\n",
       "      <td>122 E North Ave</td>\n",
       "      <td>Pittsburgh</td>\n",
       "      <td>Pennsylvania</td>\n",
       "      <td>15212</td>\n",
       "      <td>Central Northside</td>\n",
       "      <td>1.0</td>\n",
       "      <td>1.0</td>\n",
       "      <td>22.0</td>\n",
       "      <td>1-6</td>\n",
       "      <td>-80.004018</td>\n",
       "      <td>40.456073</td>\n",
       "    </tr>\n",
       "    <tr>\n",
       "      <th>1</th>\n",
       "      <td>228689</td>\n",
       "      <td>2</td>\n",
       "      <td>74</td>\n",
       "      <td>2017-09-14T13:24:40</td>\n",
       "      <td>2022-12-31T01:54:25</td>\n",
       "      <td>1st Division</td>\n",
       "      <td>2507 Brighton Rd</td>\n",
       "      <td>Pittsburgh</td>\n",
       "      <td>Pennsylvania</td>\n",
       "      <td>15212</td>\n",
       "      <td>Marshall-Shadeland</td>\n",
       "      <td>1.0</td>\n",
       "      <td>1.0</td>\n",
       "      <td>27.0</td>\n",
       "      <td>1-9</td>\n",
       "      <td>-80.025132</td>\n",
       "      <td>40.467213</td>\n",
       "    </tr>\n",
       "    <tr>\n",
       "      <th>2</th>\n",
       "      <td>228690</td>\n",
       "      <td>3</td>\n",
       "      <td>74</td>\n",
       "      <td>2017-09-14T13:24:40</td>\n",
       "      <td>2022-04-14T01:59:18</td>\n",
       "      <td>1st Division</td>\n",
       "      <td>1300 Federal St</td>\n",
       "      <td>Pittsburgh</td>\n",
       "      <td>Pennsylvania</td>\n",
       "      <td>15212</td>\n",
       "      <td>Central Northside</td>\n",
       "      <td>1.0</td>\n",
       "      <td>1.0</td>\n",
       "      <td>22.0</td>\n",
       "      <td>1-6</td>\n",
       "      <td>-80.006872</td>\n",
       "      <td>40.456625</td>\n",
       "    </tr>\n",
       "  </tbody>\n",
       "</table>\n",
       "</div>"
      ],
      "text/plain": [
       "      _id  container_id  receptacle_model_id      assignment_date  \\\n",
       "0  228688             1                   74  2017-09-14T13:24:40   \n",
       "1  228689             2                   74  2017-09-14T13:24:40   \n",
       "2  228690             3                   74  2017-09-14T13:24:40   \n",
       "\n",
       "     last_updated_date    group_name           address        city  \\\n",
       "0  2022-11-24T13:17:19  1st Division   122 E North Ave  Pittsburgh   \n",
       "1  2022-12-31T01:54:25  1st Division  2507 Brighton Rd  Pittsburgh   \n",
       "2  2022-04-14T01:59:18  1st Division   1300 Federal St  Pittsburgh   \n",
       "\n",
       "          state    zip        neighborhood  dpw_division  council_district  \\\n",
       "0  Pennsylvania  15212   Central Northside           1.0               1.0   \n",
       "1  Pennsylvania  15212  Marshall-Shadeland           1.0               1.0   \n",
       "2  Pennsylvania  15212   Central Northside           1.0               1.0   \n",
       "\n",
       "   ward fire_zone          x          y  \n",
       "0  22.0       1-6 -80.004018  40.456073  \n",
       "1  27.0       1-9 -80.025132  40.467213  \n",
       "2  22.0       1-6 -80.006872  40.456625  "
      ]
     },
     "execution_count": 4,
     "metadata": {},
     "output_type": "execute_result"
    }
   ],
   "source": [
    "#Load in trashcans dataset\n",
    "SmartTrash= pd.read_csv(\"SmartTrash.csv\")\n",
    "SmartTrash.head(3)"
   ]
  },
  {
   "cell_type": "code",
   "execution_count": 9,
   "metadata": {},
   "outputs": [],
   "source": [
    "import pandas as pd\n",
    "import csv\n",
    "import fpsnippets\n",
    "from collections import defaultdict \n",
    "  \n",
    "# default dict to determine type\n",
    "def def_value(): \n",
    "    return 'string'\n",
    "# initialize coords from csv\n",
    "d = defaultdict(def_value) \n",
    "d[\"x\"] = 'float'\n",
    "d[\"y\"] = 'float'\n",
    "d[\"_id\"] = 'int'\n",
    "d[\"container_id\"] = 'int'\n",
    "\n",
    "# places and assets\n",
    "places = pd.read_csv(\"SmartTrash.csv\", usecols=['_id', 'container_id', 'x', 'y'], index_col=\"_id\", dtype=d)\n",
    "trashys = pd.DataFrame(columns=('container_id', 'neighborhood',))\n",
    "\n",
    "\n",
    "#for every lat and long determine neighborhood and add the information to a csv\n",
    "for index, row in places.iterrows():\n",
    "    # Latitude & Longitude input\n",
    "    Latitude = row['y']\n",
    "    Longitude = row['x']\n",
    "    location = fpsnippets.geo_to_neighborhood(Latitude, Longitude)\n",
    "    \n",
    "    if location != None :\n",
    "        # data in this row\n",
    "        new_row = pd.Series(\n",
    "            {\"container_id\": row['container_id'],\n",
    "             \"neighborhood\": location})\n",
    "        #append row's data to assets\n",
    "        trashys = pd.concat([trashys, new_row.to_frame().T], ignore_index=True)\n",
    "        \n",
    "#assets to csv\n",
    "trashys.to_csv('trashcans.csv', sep=',', index=False, encoding='utf-8')"
   ]
  },
  {
   "cell_type": "code",
   "execution_count": 22,
   "metadata": {},
   "outputs": [
    {
     "data": {
      "image/png": "[encoded data removed]",
      "text/plain": [
       "<Figure size 720x720 with 1 Axes>"
      ]
     },
     "metadata": {
      "needs_background": "light"
     },
     "output_type": "display_data"
    }
   ],
   "source": [
    "# places and relevant places\n",
    "trashcans = pd.read_csv(\"trashcans.csv\", usecols=['container_id', 'neighborhood'], dtype=str)\n",
    "\n",
    "# Group by 'neighborhood' and count the number of the desired assets in each neighborhood\n",
    "neighborhood_counts = trashcans.groupby('neighborhood').size().reset_index(name='restaurant_count')\n",
    "neighborhood_counts.columns = ['neighborhood', 'count']\n",
    "neighborhood_counts = neighborhood_counts.sort_values(by='count', ascending=True)\n",
    "\n",
    "# Save the result to a new CSV file\n",
    "neighborhood_counts.to_csv('neighborhood_top_trash_counts.csv', index=False)\n",
    "ax = neighborhood_counts.head(35).plot.bar(color= \"red\", x='neighborhood', y='count', figsize=(10, 10,), title='Neighborhoods with the Least Smart Trashcans.')"
   ]
  },
  {
   "cell_type": "markdown",
   "metadata": {},
   "source": [
    "#### So we can see that from plotting the 15:"
   ]
  },
  {
   "cell_type": "markdown",
   "metadata": {},
   "source": [
    "so a huge challenge was that it kept NOT showing the neighborhoods for the latitude and longitude despite using Griffin's amaze snippets. and Gavin was like, let's search up a coordinate and see where it pops up, what if its in antarctica?? And we were like hahahhaa as if. and then we just swapped the points, and it finally works. so we actually look up the coordinates as the way they are in the dataset. and guess where it was.. ANTARCTICA. so i would say that was the most challenging part of the project. "
   ]
  }
 ],
 "metadata": {
  "kernelspec": {
   "display_name": "Python 3",
   "language": "python",
   "name": "python3"
  },
  "language_info": {
   "codemirror_mode": {
    "name": "ipython",
    "version": 3
   },
   "file_extension": ".py",
   "mimetype": "text/x-python",
   "name": "python",
   "nbconvert_exporter": "python",
   "pygments_lexer": "ipython3",
   "version": "3.8.3"
  }
 },
 "nbformat": 4,
 "nbformat_minor": 4
}

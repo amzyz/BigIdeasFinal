{
 "cells": [
  {
   "cell_type": "code",
   "execution_count": 1,
   "metadata": {},
   "outputs": [
    {
     "data": {
      "text/plain": [
       "(1.9798989873223334, 0.02385744011867552)"
      ]
     },
     "execution_count": 1,
     "metadata": {},
     "output_type": "execute_result"
    }
   ],
   "source": [
    "import math\n",
    "from scipy.stats import norm\n",
    "\n",
    "# Given values\n",
    "n = 50\n",
    "x = 32\n",
    "p0 = 0.5\n",
    "\n",
    "# Calculate sample proportion\n",
    "p̂ = x / n\n",
    "\n",
    "# Calculate standard error\n",
    "SE = math.sqrt((p0 * (1 - p0)) / n)\n",
    "\n",
    "# Calculate z statistic\n",
    "z = (p̂ - p0) / SE\n",
    "\n",
    "# Calculate P-value\n",
    "p_value = 1 - norm.cdf(z)\n",
    "\n",
    "z, p_value"
   ]
  },
  {
   "cell_type": "code",
   "execution_count": 2,
   "metadata": {},
   "outputs": [
    {
     "data": {
      "text/plain": [
       "'The result is significant at the 5% level. Reject the null hypothesis.'"
      ]
     },
     "execution_count": 2,
     "metadata": {},
     "output_type": "execute_result"
    }
   ],
   "source": [
    "alpha = 0.05\n",
    "\n",
    "if p_value <= alpha:\n",
    "    significance_result = \"The result is significant at the 5% level. Reject the null hypothesis.\"\n",
    "else:\n",
    "    significance_result = \"The result is not significant at the 5% level. Fail to reject the null hypothesis.\"\n",
    "\n",
    "significance_result"
   ]
  },
  {
   "cell_type": "code",
   "execution_count": null,
   "metadata": {},
   "outputs": [],
   "source": []
  }
 ],
 "metadata": {
  "kernelspec": {
   "display_name": "Python 3",
   "language": "python",
   "name": "python3"
  },
  "language_info": {
   "codemirror_mode": {
    "name": "ipython",
    "version": 3
   },
   "file_extension": ".py",
   "mimetype": "text/x-python",
   "name": "python",
   "nbconvert_exporter": "python",
   "pygments_lexer": "ipython3",
   "version": "3.8.3"
  }
 },
 "nbformat": 4,
 "nbformat_minor": 4
}
